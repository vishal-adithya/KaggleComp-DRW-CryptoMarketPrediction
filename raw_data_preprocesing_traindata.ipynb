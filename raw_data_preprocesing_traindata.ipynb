{
 "cells": [
  {
   "cell_type": "markdown",
   "metadata": {},
   "source": [
    "# DRW - Crypto Market Prediction : Raw Data Preprocessing Notebook"
   ]
  },
  {
   "cell_type": "markdown",
   "metadata": {},
   "source": [
    "### Dependencies\n"
   ]
  },
  {
   "cell_type": "code",
   "execution_count": 7,
   "metadata": {},
   "outputs": [],
   "source": [
    "import os \n",
    "import json\n",
    "import random\n",
    "import numpy as np\n",
    "import pandas as pd\n",
    "import matplotlib.pyplot as plt"
   ]
  },
  {
   "cell_type": "markdown",
   "metadata": {},
   "source": [
    "### Preparing the Data"
   ]
  },
  {
   "cell_type": "code",
   "execution_count": 8,
   "metadata": {},
   "outputs": [
    {
     "data": {
      "text/html": [
       "<div>\n",
       "<style scoped>\n",
       "    .dataframe tbody tr th:only-of-type {\n",
       "        vertical-align: middle;\n",
       "    }\n",
       "\n",
       "    .dataframe tbody tr th {\n",
       "        vertical-align: top;\n",
       "    }\n",
       "\n",
       "    .dataframe thead th {\n",
       "        text-align: right;\n",
       "    }\n",
       "</style>\n",
       "<table border=\"1\" class=\"dataframe\">\n",
       "  <thead>\n",
       "    <tr style=\"text-align: right;\">\n",
       "      <th></th>\n",
       "      <th>dr_features</th>\n",
       "      <th>label</th>\n",
       "      <th>bid_qty</th>\n",
       "      <th>ask_qty</th>\n",
       "      <th>sell_qty</th>\n",
       "      <th>volume</th>\n",
       "      <th>buy_qty</th>\n",
       "    </tr>\n",
       "  </thead>\n",
       "  <tbody>\n",
       "    <tr>\n",
       "      <th>0</th>\n",
       "      <td>1.067519</td>\n",
       "      <td>0.562539</td>\n",
       "      <td>15.283</td>\n",
       "      <td>8.425</td>\n",
       "      <td>44.984</td>\n",
       "      <td>221.389</td>\n",
       "      <td>176.405</td>\n",
       "    </tr>\n",
       "    <tr>\n",
       "      <th>1</th>\n",
       "      <td>1.131456</td>\n",
       "      <td>0.533686</td>\n",
       "      <td>38.590</td>\n",
       "      <td>2.336</td>\n",
       "      <td>321.950</td>\n",
       "      <td>847.796</td>\n",
       "      <td>525.846</td>\n",
       "    </tr>\n",
       "    <tr>\n",
       "      <th>2</th>\n",
       "      <td>0.991776</td>\n",
       "      <td>0.546505</td>\n",
       "      <td>0.442</td>\n",
       "      <td>60.250</td>\n",
       "      <td>136.369</td>\n",
       "      <td>295.596</td>\n",
       "      <td>159.227</td>\n",
       "    </tr>\n",
       "    <tr>\n",
       "      <th>3</th>\n",
       "      <td>0.836962</td>\n",
       "      <td>0.357703</td>\n",
       "      <td>4.865</td>\n",
       "      <td>21.016</td>\n",
       "      <td>124.963</td>\n",
       "      <td>460.705</td>\n",
       "      <td>335.742</td>\n",
       "    </tr>\n",
       "    <tr>\n",
       "      <th>4</th>\n",
       "      <td>0.785671</td>\n",
       "      <td>0.362452</td>\n",
       "      <td>27.158</td>\n",
       "      <td>3.451</td>\n",
       "      <td>44.407</td>\n",
       "      <td>142.818</td>\n",
       "      <td>98.411</td>\n",
       "    </tr>\n",
       "  </tbody>\n",
       "</table>\n",
       "</div>"
      ],
      "text/plain": [
       "   dr_features     label  bid_qty  ask_qty  sell_qty   volume  buy_qty\n",
       "0     1.067519  0.562539   15.283    8.425    44.984  221.389  176.405\n",
       "1     1.131456  0.533686   38.590    2.336   321.950  847.796  525.846\n",
       "2     0.991776  0.546505    0.442   60.250   136.369  295.596  159.227\n",
       "3     0.836962  0.357703    4.865   21.016   124.963  460.705  335.742\n",
       "4     0.785671  0.362452   27.158    3.451    44.407  142.818   98.411"
      ]
     },
     "execution_count": 8,
     "metadata": {},
     "output_type": "execute_result"
    }
   ],
   "source": [
    "train_df = pd.read_csv(os.path.join(\"Data\",\"preprocessed_train_df.csv\"))\n",
    "train_df.drop(columns=[\"timestamp\"],inplace=True)\n",
    "train_df.head()"
   ]
  },
  {
   "cell_type": "code",
   "execution_count": 15,
   "metadata": {},
   "outputs": [
    {
     "data": {
      "text/plain": [
       "[{'text': 'You are a Bitcoin Market Expert.Predict the anonymized market price movement using the given info.,Input: Asset: BTC\\nSignal: 0.88591784,\\nBid Quantity: 0.031,\\nAsk Quantity: 24.857,\\nSell Quantity:119.479,\\nVolume: 180.285,\\nBuy Quantity: 60.806,Output: 0.6946448974672087'},\n",
       " {'text': 'You are a Bitcoin Market Expert.Predict the anonymized market price movement using the given info.,Input: Asset: BTC\\nSignal: 0.11281682,\\nBid Quantity: 7.28,\\nAsk Quantity: 1.351,\\nSell Quantity:21.053,\\nVolume: 54.107,\\nBuy Quantity: 33.054,Output: -0.0888225922984691'},\n",
       " {'text': 'You are a Bitcoin Market Expert.Predict the anonymized market price movement using the given info.,Input: Asset: BTC\\nSignal: -0.654731,\\nBid Quantity: 12.548,\\nAsk Quantity: 14.582,\\nSell Quantity:49.603,\\nVolume: 69.502,\\nBuy Quantity: 19.899,Output: -0.8611884060529454'},\n",
       " {'text': 'You are a Bitcoin Market Expert.Predict the anonymized market price movement using the given info.,Input: Asset: BTC\\nSignal: -0.23755942,\\nBid Quantity: 0.765,\\nAsk Quantity: 9.268,\\nSell Quantity:1010.886,\\nVolume: 1639.441,\\nBuy Quantity: 628.555,Output: -0.5558774625767672'},\n",
       " {'text': 'You are a Bitcoin Market Expert.Predict the anonymized market price movement using the given info.,Input: Asset: BTC\\nSignal: 0.17968816,\\nBid Quantity: 18.874,\\nAsk Quantity: 3.401,\\nSell Quantity:16.489,\\nVolume: 38.876,\\nBuy Quantity: 22.387,Output: 0.2465572078307929'}]"
      ]
     },
     "execution_count": 15,
     "metadata": {},
     "output_type": "execute_result"
    }
   ],
   "source": [
    "records = []\n",
    "for _,row in train_df.iterrows():\n",
    "    \n",
    "    _instruction_ = \"You are a Bitcoin Market Expert.Predict the anonymized market price movement using the given info.\"\n",
    "    _input_ = f'Asset: BTC\\nSignal: {row[\"dr_features\"].astype(\"str\")},\\nBid Quantity: {row[\"bid_qty\"].astype(\"str\")},\\nAsk Quantity: {row[\"ask_qty\"].astype(\"str\")},\\nSell Quantity:{row[\"sell_qty\"].astype(\"str\")},\\nVolume: {row[\"volume\"].astype(\"str\")},\\nBuy Quantity: {row[\"buy_qty\"].astype(\"str\")}'\n",
    "    _output_ = row[\"label\"].astype(\"str\")\n",
    "    \n",
    "    records.append({\"text\":f\"{_instruction_},Input: {_input_},Output: {_output_}\"})\n",
    "    \n",
    "random.shuffle(records)\n",
    "records[:5]"
   ]
  },
  {
   "cell_type": "code",
   "execution_count": 16,
   "metadata": {},
   "outputs": [
    {
     "data": {
      "text/plain": [
       "525887"
      ]
     },
     "execution_count": 16,
     "metadata": {},
     "output_type": "execute_result"
    }
   ],
   "source": [
    "len(records)"
   ]
  },
  {
   "cell_type": "code",
   "execution_count": 17,
   "metadata": {},
   "outputs": [
    {
     "name": "stdout",
     "output_type": "stream",
     "text": [
      "train: 425887\n",
      "val: 100000\n"
     ]
    }
   ],
   "source": [
    "val_split = records[:100000]\n",
    "train_split = records[100000:]\n",
    "\n",
    "print(f\"train: {len(train_split)}\")\n",
    "print(f\"val: {len(val_split)}\")"
   ]
  },
  {
   "cell_type": "code",
   "execution_count": 18,
   "metadata": {},
   "outputs": [],
   "source": [
    "with open(os.path.join(\"Finegrained\",\"train.jsonl\"),\"w\") as f:\n",
    "    for record in train_split:\n",
    "        f.write(json.dumps(record) + \"\\n\")\n",
    "\n",
    "with open(os.path.join(\"Finegrained\",\"valid.jsonl\"),\"w\") as f:\n",
    "    for record in val_split:\n",
    "        f.write(json.dumps(record) + \"\\n\")\n"
   ]
  }
 ],
 "metadata": {
  "kernelspec": {
   "display_name": "base",
   "language": "python",
   "name": "python3"
  },
  "language_info": {
   "codemirror_mode": {
    "name": "ipython",
    "version": 3
   },
   "file_extension": ".py",
   "mimetype": "text/x-python",
   "name": "python",
   "nbconvert_exporter": "python",
   "pygments_lexer": "ipython3",
   "version": "3.11.7"
  }
 },
 "nbformat": 4,
 "nbformat_minor": 2
}

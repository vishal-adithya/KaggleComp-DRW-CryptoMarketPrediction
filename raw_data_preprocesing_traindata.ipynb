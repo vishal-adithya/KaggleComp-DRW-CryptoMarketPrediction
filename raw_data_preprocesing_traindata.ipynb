{
 "cells": [
  {
   "cell_type": "markdown",
   "metadata": {},
   "source": [
    "# DRW - Crypto Market Prediction : Raw Data Preprocessing Notebook"
   ]
  },
  {
   "cell_type": "markdown",
   "metadata": {},
   "source": [
    "### Dependencies"
   ]
  },
  {
   "cell_type": "code",
   "execution_count": 1,
   "metadata": {},
   "outputs": [],
   "source": [
    "import os \n",
    "import json\n",
    "import random\n",
    "import numpy as np\n",
    "import pandas as pd\n",
    "import matplotlib.pyplot as plt"
   ]
  },
  {
   "cell_type": "markdown",
   "metadata": {},
   "source": [
    "### Preparing the Data"
   ]
  },
  {
   "cell_type": "code",
   "execution_count": 2,
   "metadata": {},
   "outputs": [
    {
     "data": {
      "text/html": [
       "<div>\n",
       "<style scoped>\n",
       "    .dataframe tbody tr th:only-of-type {\n",
       "        vertical-align: middle;\n",
       "    }\n",
       "\n",
       "    .dataframe tbody tr th {\n",
       "        vertical-align: top;\n",
       "    }\n",
       "\n",
       "    .dataframe thead th {\n",
       "        text-align: right;\n",
       "    }\n",
       "</style>\n",
       "<table border=\"1\" class=\"dataframe\">\n",
       "  <thead>\n",
       "    <tr style=\"text-align: right;\">\n",
       "      <th></th>\n",
       "      <th>dr_features</th>\n",
       "      <th>label</th>\n",
       "      <th>bid_qty</th>\n",
       "      <th>ask_qty</th>\n",
       "      <th>sell_qty</th>\n",
       "      <th>volume</th>\n",
       "      <th>buy_qty</th>\n",
       "    </tr>\n",
       "  </thead>\n",
       "  <tbody>\n",
       "    <tr>\n",
       "      <th>0</th>\n",
       "      <td>1.067519</td>\n",
       "      <td>0.562539</td>\n",
       "      <td>15.283</td>\n",
       "      <td>8.425</td>\n",
       "      <td>44.984</td>\n",
       "      <td>221.389</td>\n",
       "      <td>176.405</td>\n",
       "    </tr>\n",
       "    <tr>\n",
       "      <th>1</th>\n",
       "      <td>1.131456</td>\n",
       "      <td>0.533686</td>\n",
       "      <td>38.590</td>\n",
       "      <td>2.336</td>\n",
       "      <td>321.950</td>\n",
       "      <td>847.796</td>\n",
       "      <td>525.846</td>\n",
       "    </tr>\n",
       "    <tr>\n",
       "      <th>2</th>\n",
       "      <td>0.991776</td>\n",
       "      <td>0.546505</td>\n",
       "      <td>0.442</td>\n",
       "      <td>60.250</td>\n",
       "      <td>136.369</td>\n",
       "      <td>295.596</td>\n",
       "      <td>159.227</td>\n",
       "    </tr>\n",
       "    <tr>\n",
       "      <th>3</th>\n",
       "      <td>0.836962</td>\n",
       "      <td>0.357703</td>\n",
       "      <td>4.865</td>\n",
       "      <td>21.016</td>\n",
       "      <td>124.963</td>\n",
       "      <td>460.705</td>\n",
       "      <td>335.742</td>\n",
       "    </tr>\n",
       "    <tr>\n",
       "      <th>4</th>\n",
       "      <td>0.785671</td>\n",
       "      <td>0.362452</td>\n",
       "      <td>27.158</td>\n",
       "      <td>3.451</td>\n",
       "      <td>44.407</td>\n",
       "      <td>142.818</td>\n",
       "      <td>98.411</td>\n",
       "    </tr>\n",
       "  </tbody>\n",
       "</table>\n",
       "</div>"
      ],
      "text/plain": [
       "   dr_features     label  bid_qty  ask_qty  sell_qty   volume  buy_qty\n",
       "0     1.067519  0.562539   15.283    8.425    44.984  221.389  176.405\n",
       "1     1.131456  0.533686   38.590    2.336   321.950  847.796  525.846\n",
       "2     0.991776  0.546505    0.442   60.250   136.369  295.596  159.227\n",
       "3     0.836962  0.357703    4.865   21.016   124.963  460.705  335.742\n",
       "4     0.785671  0.362452   27.158    3.451    44.407  142.818   98.411"
      ]
     },
     "execution_count": 2,
     "metadata": {},
     "output_type": "execute_result"
    }
   ],
   "source": [
    "train_df = pd.read_csv(os.path.join(\"Data\",\"preprocessed_train_df.csv\"))\n",
    "train_df.drop(columns=[\"timestamp\"],inplace=True)\n",
    "train_df.head()"
   ]
  },
  {
   "cell_type": "code",
   "execution_count": 3,
   "metadata": {},
   "outputs": [
    {
     "data": {
      "text/html": [
       "<div>\n",
       "<style scoped>\n",
       "    .dataframe tbody tr th:only-of-type {\n",
       "        vertical-align: middle;\n",
       "    }\n",
       "\n",
       "    .dataframe tbody tr th {\n",
       "        vertical-align: top;\n",
       "    }\n",
       "\n",
       "    .dataframe thead th {\n",
       "        text-align: right;\n",
       "    }\n",
       "</style>\n",
       "<table border=\"1\" class=\"dataframe\">\n",
       "  <thead>\n",
       "    <tr style=\"text-align: right;\">\n",
       "      <th></th>\n",
       "      <th>dr_features</th>\n",
       "      <th>label</th>\n",
       "      <th>bid_qty</th>\n",
       "      <th>ask_qty</th>\n",
       "      <th>sell_qty</th>\n",
       "      <th>volume</th>\n",
       "      <th>buy_qty</th>\n",
       "    </tr>\n",
       "  </thead>\n",
       "  <tbody>\n",
       "    <tr>\n",
       "      <th>dr_features</th>\n",
       "      <td>1.000000</td>\n",
       "      <td>0.961725</td>\n",
       "      <td>-0.012643</td>\n",
       "      <td>-0.019452</td>\n",
       "      <td>0.011547</td>\n",
       "      <td>0.010001</td>\n",
       "      <td>0.007516</td>\n",
       "    </tr>\n",
       "    <tr>\n",
       "      <th>label</th>\n",
       "      <td>0.961725</td>\n",
       "      <td>1.000000</td>\n",
       "      <td>-0.013220</td>\n",
       "      <td>-0.015762</td>\n",
       "      <td>0.011166</td>\n",
       "      <td>0.008809</td>\n",
       "      <td>0.005618</td>\n",
       "    </tr>\n",
       "    <tr>\n",
       "      <th>bid_qty</th>\n",
       "      <td>-0.012643</td>\n",
       "      <td>-0.013220</td>\n",
       "      <td>1.000000</td>\n",
       "      <td>0.015471</td>\n",
       "      <td>-0.064913</td>\n",
       "      <td>-0.065910</td>\n",
       "      <td>-0.060813</td>\n",
       "    </tr>\n",
       "    <tr>\n",
       "      <th>ask_qty</th>\n",
       "      <td>-0.019452</td>\n",
       "      <td>-0.015762</td>\n",
       "      <td>0.015471</td>\n",
       "      <td>1.000000</td>\n",
       "      <td>-0.056430</td>\n",
       "      <td>-0.062442</td>\n",
       "      <td>-0.062721</td>\n",
       "    </tr>\n",
       "    <tr>\n",
       "      <th>sell_qty</th>\n",
       "      <td>0.011547</td>\n",
       "      <td>0.011166</td>\n",
       "      <td>-0.064913</td>\n",
       "      <td>-0.056430</td>\n",
       "      <td>1.000000</td>\n",
       "      <td>0.954279</td>\n",
       "      <td>0.819819</td>\n",
       "    </tr>\n",
       "    <tr>\n",
       "      <th>volume</th>\n",
       "      <td>0.010001</td>\n",
       "      <td>0.008809</td>\n",
       "      <td>-0.065910</td>\n",
       "      <td>-0.062442</td>\n",
       "      <td>0.954279</td>\n",
       "      <td>1.000000</td>\n",
       "      <td>0.953503</td>\n",
       "    </tr>\n",
       "    <tr>\n",
       "      <th>buy_qty</th>\n",
       "      <td>0.007516</td>\n",
       "      <td>0.005618</td>\n",
       "      <td>-0.060813</td>\n",
       "      <td>-0.062721</td>\n",
       "      <td>0.819819</td>\n",
       "      <td>0.953503</td>\n",
       "      <td>1.000000</td>\n",
       "    </tr>\n",
       "  </tbody>\n",
       "</table>\n",
       "</div>"
      ],
      "text/plain": [
       "             dr_features     label   bid_qty   ask_qty  sell_qty    volume  \\\n",
       "dr_features     1.000000  0.961725 -0.012643 -0.019452  0.011547  0.010001   \n",
       "label           0.961725  1.000000 -0.013220 -0.015762  0.011166  0.008809   \n",
       "bid_qty        -0.012643 -0.013220  1.000000  0.015471 -0.064913 -0.065910   \n",
       "ask_qty        -0.019452 -0.015762  0.015471  1.000000 -0.056430 -0.062442   \n",
       "sell_qty        0.011547  0.011166 -0.064913 -0.056430  1.000000  0.954279   \n",
       "volume          0.010001  0.008809 -0.065910 -0.062442  0.954279  1.000000   \n",
       "buy_qty         0.007516  0.005618 -0.060813 -0.062721  0.819819  0.953503   \n",
       "\n",
       "              buy_qty  \n",
       "dr_features  0.007516  \n",
       "label        0.005618  \n",
       "bid_qty     -0.060813  \n",
       "ask_qty     -0.062721  \n",
       "sell_qty     0.819819  \n",
       "volume       0.953503  \n",
       "buy_qty      1.000000  "
      ]
     },
     "execution_count": 3,
     "metadata": {},
     "output_type": "execute_result"
    }
   ],
   "source": [
    "train_df.corr()"
   ]
  },
  {
   "cell_type": "code",
   "execution_count": 4,
   "metadata": {},
   "outputs": [
    {
     "data": {
      "text/plain": [
       "[{'instruction': 'You are a Bitcoin Market Expert.Predict the anonymized market price movement using the given info.',\n",
       "  'input': 'Asset: BTC\\nSignal: -0.075171955,\\nBid Quantity: 29.991,\\nAsk Quantity: 36.123,\\nSell Quantity:40.925,\\nVolume: 67.006,\\nBuy Quantity: 26.081',\n",
       "  'output': '0.0730768678187458'},\n",
       " {'instruction': 'You are a Bitcoin Market Expert.Predict the anonymized market price movement using the given info.',\n",
       "  'input': 'Asset: BTC\\nSignal: 0.1587267,\\nBid Quantity: 31.043,\\nAsk Quantity: 25.036,\\nSell Quantity:5.972,\\nVolume: 11.995,\\nBuy Quantity: 6.023',\n",
       "  'output': '0.2189587749863983'},\n",
       " {'instruction': 'You are a Bitcoin Market Expert.Predict the anonymized market price movement using the given info.',\n",
       "  'input': 'Asset: BTC\\nSignal: 0.25785226,\\nBid Quantity: 2.707,\\nAsk Quantity: 9.176,\\nSell Quantity:21.457,\\nVolume: 36.234,\\nBuy Quantity: 14.777',\n",
       "  'output': '0.5090507766130441'},\n",
       " {'instruction': 'You are a Bitcoin Market Expert.Predict the anonymized market price movement using the given info.',\n",
       "  'input': 'Asset: BTC\\nSignal: -0.14209971,\\nBid Quantity: 12.653,\\nAsk Quantity: 4.316,\\nSell Quantity:66.432,\\nVolume: 129.378,\\nBuy Quantity: 62.946',\n",
       "  'output': '-0.2649971810901919'},\n",
       " {'instruction': 'You are a Bitcoin Market Expert.Predict the anonymized market price movement using the given info.',\n",
       "  'input': 'Asset: BTC\\nSignal: -0.100841895,\\nBid Quantity: 33.894,\\nAsk Quantity: 0.279,\\nSell Quantity:25.36,\\nVolume: 103.552,\\nBuy Quantity: 78.192',\n",
       "  'output': '0.2022049837503686'}]"
      ]
     },
     "execution_count": 4,
     "metadata": {},
     "output_type": "execute_result"
    }
   ],
   "source": [
    "records = []\n",
    "for _,row in train_df.iterrows():\n",
    "    \n",
    "    _instruction_ = \"You are a Bitcoin Market Expert.Predict the anonymized market price movement using the given info.\"\n",
    "    _input_ = f'Asset: BTC\\nSignal: {row[\"dr_features\"]},\\nBid Quantity: {row[\"bid_qty\"]},\\nAsk Quantity: {row[\"ask_qty\"]},\\nSell Quantity:{row[\"sell_qty\"]},\\nVolume: {row[\"volume\"]},\\nBuy Quantity: {row[\"buy_qty\"]}'\n",
    "    _output_ = row[\"label\"].astype(\"str\")\n",
    "    \n",
    "    records.append({\"instruction\":_instruction_,\n",
    "                    \"input\":_input_,\n",
    "                    \"output\":_output_})\n",
    "    \n",
    "random.shuffle(records)\n",
    "records[:5]"
   ]
  },
  {
   "cell_type": "code",
   "execution_count": 5,
   "metadata": {},
   "outputs": [
    {
     "data": {
      "text/plain": [
       "525887"
      ]
     },
     "execution_count": 5,
     "metadata": {},
     "output_type": "execute_result"
    }
   ],
   "source": [
    "len(records)"
   ]
  },
  {
   "cell_type": "code",
   "execution_count": 6,
   "metadata": {},
   "outputs": [
    {
     "name": "stdout",
     "output_type": "stream",
     "text": [
      "train: 425887\n",
      "val: 100000\n"
     ]
    }
   ],
   "source": [
    "val_split = records[:100000]\n",
    "train_split = records[100000:]\n",
    "\n",
    "print(f\"train: {len(train_split)}\")\n",
    "print(f\"val: {len(val_split)}\")"
   ]
  },
  {
   "cell_type": "code",
   "execution_count": 8,
   "metadata": {},
   "outputs": [],
   "source": [
    "with open(os.path.join(\"Data\",\"train.jsonl\"),\"w\") as f:\n",
    "    for record in train_split:\n",
    "        f.write(json.dumps(record) + \"\\n\")\n",
    "\n",
    "with open(os.path.join(\"Data\",\"valid.jsonl\"),\"w\") as f:\n",
    "    for record in val_split:\n",
    "        f.write(json.dumps(record) + \"\\n\")\n"
   ]
  }
 ],
 "metadata": {
  "kernelspec": {
   "display_name": "base",
   "language": "python",
   "name": "python3"
  },
  "language_info": {
   "codemirror_mode": {
    "name": "ipython",
    "version": 3
   },
   "file_extension": ".py",
   "mimetype": "text/x-python",
   "name": "python",
   "nbconvert_exporter": "python",
   "pygments_lexer": "ipython3",
   "version": "3.11.7"
  }
 },
 "nbformat": 4,
 "nbformat_minor": 2
}

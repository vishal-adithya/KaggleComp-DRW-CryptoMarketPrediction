{
 "cells": [
  {
   "cell_type": "markdown",
   "metadata": {},
   "source": [
    "# DRW - Crypto Market Prediction : Raw Data Preprocessing Notebook"
   ]
  },
  {
   "cell_type": "markdown",
   "metadata": {},
   "source": [
    "### Dependencies\n"
   ]
  },
  {
   "cell_type": "code",
   "execution_count": 7,
   "metadata": {},
   "outputs": [],
   "source": [
    "import os \n",
    "import json\n",
    "import random\n",
    "import numpy as np\n",
    "import pandas as pd\n",
    "import matplotlib.pyplot as plt"
   ]
  },
  {
   "cell_type": "markdown",
   "metadata": {},
   "source": [
    "### Preparing the Data"
   ]
  },
  {
   "cell_type": "code",
   "execution_count": 8,
   "metadata": {},
   "outputs": [
    {
     "data": {
      "text/html": [
       "<div>\n",
       "<style scoped>\n",
       "    .dataframe tbody tr th:only-of-type {\n",
       "        vertical-align: middle;\n",
       "    }\n",
       "\n",
       "    .dataframe tbody tr th {\n",
       "        vertical-align: top;\n",
       "    }\n",
       "\n",
       "    .dataframe thead th {\n",
       "        text-align: right;\n",
       "    }\n",
       "</style>\n",
       "<table border=\"1\" class=\"dataframe\">\n",
       "  <thead>\n",
       "    <tr style=\"text-align: right;\">\n",
       "      <th></th>\n",
       "      <th>dr_features</th>\n",
       "      <th>label</th>\n",
       "      <th>bid_qty</th>\n",
       "      <th>ask_qty</th>\n",
       "      <th>sell_qty</th>\n",
       "      <th>volume</th>\n",
       "      <th>buy_qty</th>\n",
       "    </tr>\n",
       "  </thead>\n",
       "  <tbody>\n",
       "    <tr>\n",
       "      <th>0</th>\n",
       "      <td>1.067519</td>\n",
       "      <td>0.562539</td>\n",
       "      <td>15.283</td>\n",
       "      <td>8.425</td>\n",
       "      <td>44.984</td>\n",
       "      <td>221.389</td>\n",
       "      <td>176.405</td>\n",
       "    </tr>\n",
       "    <tr>\n",
       "      <th>1</th>\n",
       "      <td>1.131456</td>\n",
       "      <td>0.533686</td>\n",
       "      <td>38.590</td>\n",
       "      <td>2.336</td>\n",
       "      <td>321.950</td>\n",
       "      <td>847.796</td>\n",
       "      <td>525.846</td>\n",
       "    </tr>\n",
       "    <tr>\n",
       "      <th>2</th>\n",
       "      <td>0.991776</td>\n",
       "      <td>0.546505</td>\n",
       "      <td>0.442</td>\n",
       "      <td>60.250</td>\n",
       "      <td>136.369</td>\n",
       "      <td>295.596</td>\n",
       "      <td>159.227</td>\n",
       "    </tr>\n",
       "    <tr>\n",
       "      <th>3</th>\n",
       "      <td>0.836962</td>\n",
       "      <td>0.357703</td>\n",
       "      <td>4.865</td>\n",
       "      <td>21.016</td>\n",
       "      <td>124.963</td>\n",
       "      <td>460.705</td>\n",
       "      <td>335.742</td>\n",
       "    </tr>\n",
       "    <tr>\n",
       "      <th>4</th>\n",
       "      <td>0.785671</td>\n",
       "      <td>0.362452</td>\n",
       "      <td>27.158</td>\n",
       "      <td>3.451</td>\n",
       "      <td>44.407</td>\n",
       "      <td>142.818</td>\n",
       "      <td>98.411</td>\n",
       "    </tr>\n",
       "  </tbody>\n",
       "</table>\n",
       "</div>"
      ],
      "text/plain": [
       "   dr_features     label  bid_qty  ask_qty  sell_qty   volume  buy_qty\n",
       "0     1.067519  0.562539   15.283    8.425    44.984  221.389  176.405\n",
       "1     1.131456  0.533686   38.590    2.336   321.950  847.796  525.846\n",
       "2     0.991776  0.546505    0.442   60.250   136.369  295.596  159.227\n",
       "3     0.836962  0.357703    4.865   21.016   124.963  460.705  335.742\n",
       "4     0.785671  0.362452   27.158    3.451    44.407  142.818   98.411"
      ]
     },
     "execution_count": 8,
     "metadata": {},
     "output_type": "execute_result"
    }
   ],
   "source": [
    "train_df = pd.read_csv(os.path.join(\"Data\",\"preprocessed_train_df.csv\"))\n",
    "train_df.drop(columns=[\"timestamp\"],inplace=True)\n",
    "train_df.head()"
   ]
  },
  {
   "cell_type": "code",
   "execution_count": 11,
   "metadata": {},
   "outputs": [
    {
     "data": {
      "text/plain": [
       "[{'instruction': 'You are a Bitcoin Market Expert.Predict the anonymized market price movement using the given info.',\n",
       "  'input': 'Asset: BTC\\nSignal: -2.230072,\\nBid Quantity: 6.397,\\nAsk Quantity: 12.381,\\nSell Quantity:40.65,\\nVolume: 322.688,\\nBuy Quantity: 282.038',\n",
       "  'output': '-2.6690931234353106'},\n",
       " {'instruction': 'You are a Bitcoin Market Expert.Predict the anonymized market price movement using the given info.',\n",
       "  'input': 'Asset: BTC\\nSignal: 0.33898288,\\nBid Quantity: 18.256,\\nAsk Quantity: 12.434,\\nSell Quantity:28.528,\\nVolume: 41.557,\\nBuy Quantity: 13.029',\n",
       "  'output': '0.3535502392112165'},\n",
       " {'instruction': 'You are a Bitcoin Market Expert.Predict the anonymized market price movement using the given info.',\n",
       "  'input': 'Asset: BTC\\nSignal: 0.14457475,\\nBid Quantity: 1.311,\\nAsk Quantity: 56.908,\\nSell Quantity:21.095,\\nVolume: 33.872,\\nBuy Quantity: 12.777',\n",
       "  'output': '0.3527806349258827'},\n",
       " {'instruction': 'You are a Bitcoin Market Expert.Predict the anonymized market price movement using the given info.',\n",
       "  'input': 'Asset: BTC\\nSignal: 0.24085808,\\nBid Quantity: 0.106,\\nAsk Quantity: 39.662,\\nSell Quantity:55.385,\\nVolume: 134.18,\\nBuy Quantity: 78.795',\n",
       "  'output': '0.3672623115765299'},\n",
       " {'instruction': 'You are a Bitcoin Market Expert.Predict the anonymized market price movement using the given info.',\n",
       "  'input': 'Asset: BTC\\nSignal: -0.12873203,\\nBid Quantity: 8.294,\\nAsk Quantity: 1.265,\\nSell Quantity:335.51,\\nVolume: 482.617,\\nBuy Quantity: 147.107',\n",
       "  'output': '0.0301586240001522'}]"
      ]
     },
     "execution_count": 11,
     "metadata": {},
     "output_type": "execute_result"
    }
   ],
   "source": [
    "records = []\n",
    "for _,row in train_df.iterrows():\n",
    "    \n",
    "    _instruction_ = \"You are a Bitcoin Market Expert.Predict the anonymized market price movement using the given info.\"\n",
    "    _input_ = f'Asset: BTC\\nSignal: {row[\"dr_features\"].astype(\"str\")},\\nBid Quantity: {row[\"bid_qty\"].astype(\"str\")},\\nAsk Quantity: {row[\"ask_qty\"].astype(\"str\")},\\nSell Quantity:{row[\"sell_qty\"].astype(\"str\")},\\nVolume: {row[\"volume\"].astype(\"str\")},\\nBuy Quantity: {row[\"buy_qty\"].astype(\"str\")}'\n",
    "    _output_ = row[\"label\"].astype(\"str\")\n",
    "    \n",
    "    records.append({\"instruction\":_instruction_,\n",
    "                    \"input\":_input_,\n",
    "                    \"output\":_output_})\n",
    "    \n",
    "random.shuffle(records)\n",
    "records[:5]"
   ]
  },
  {
   "cell_type": "code",
   "execution_count": 12,
   "metadata": {},
   "outputs": [
    {
     "data": {
      "text/plain": [
       "525887"
      ]
     },
     "execution_count": 12,
     "metadata": {},
     "output_type": "execute_result"
    }
   ],
   "source": [
    "len(records)"
   ]
  },
  {
   "cell_type": "code",
   "execution_count": 13,
   "metadata": {},
   "outputs": [
    {
     "name": "stdout",
     "output_type": "stream",
     "text": [
      "train: 425887\n",
      "val: 100000\n"
     ]
    }
   ],
   "source": [
    "val_split = records[:100000]\n",
    "train_split = records[100000:]\n",
    "\n",
    "print(f\"train: {len(train_split)}\")\n",
    "print(f\"val: {len(val_split)}\")"
   ]
  },
  {
   "cell_type": "code",
   "execution_count": 14,
   "metadata": {},
   "outputs": [],
   "source": [
    "with open(os.path.join(\"Finegrained\",\"train.jsonl\"),\"w\") as f:\n",
    "    for record in train_split:\n",
    "        f.write(json.dumps(record) + \"\\n\")\n",
    "\n",
    "with open(os.path.join(\"Finegrained\",\"valid.jsonl\"),\"w\") as f:\n",
    "    for record in val_split:\n",
    "        f.write(json.dumps(record) + \"\\n\")\n"
   ]
  },
  {
   "cell_type": "code",
   "execution_count": null,
   "metadata": {},
   "outputs": [],
   "source": []
  }
 ],
 "metadata": {
  "kernelspec": {
   "display_name": "base",
   "language": "python",
   "name": "python3"
  },
  "language_info": {
   "codemirror_mode": {
    "name": "ipython",
    "version": 3
   },
   "file_extension": ".py",
   "mimetype": "text/x-python",
   "name": "python",
   "nbconvert_exporter": "python",
   "pygments_lexer": "ipython3",
   "version": "3.11.7"
  }
 },
 "nbformat": 4,
 "nbformat_minor": 2
}

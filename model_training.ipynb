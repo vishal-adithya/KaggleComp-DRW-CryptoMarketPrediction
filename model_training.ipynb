{
 "cells": [
  {
   "cell_type": "code",
   "execution_count": 1,
   "metadata": {},
   "outputs": [],
   "source": [
    "import warnings\n",
    "warnings.filterwarnings(\"ignore\")"
   ]
  },
  {
   "cell_type": "code",
   "execution_count": 3,
   "metadata": {},
   "outputs": [
    {
     "name": "stdout",
     "output_type": "stream",
     "text": [
      "/Users/vishaladithya/Documents/GitHub/KaggleComp-DRW-CryptoMarketPrediction/mlx-llm/lib/python3.9/site-packages/urllib3/__init__.py:35: NotOpenSSLWarning: urllib3 v2 only supports OpenSSL 1.1.1+, currently the 'ssl' module is compiled with 'LibreSSL 2.8.3'. See: https://github.com/urllib3/urllib3/issues/3020\n",
      "  warnings.warn(\n",
      "Loading pretrained model\n",
      "Fetching 7 files: 100%|███████████████████████| 7/7 [00:00<00:00, 118866.91it/s]\n",
      "Loading datasets\n",
      "Training\n",
      "Trainable parameters: 0.021% (1.704M/8019.808M)\n",
      "Starting training..., iters: 10\n",
      "Iter 1: Val loss 3.128, Val took 58.107s\n",
      "Iter 10: Val loss 2.559, Val took 58.584s\n",
      "Iter 10: Train loss 2.882, Learning Rate 1.000e-05, It/sec 0.246, Tokens/sec 112.140, Trained Tokens 4564, Peak mem 6.577 GB\n",
      "Saved final weights to adapters/adapters.safetensors.\n"
     ]
    }
   ],
   "source": [
    "!python3 -m mlx_lm lora \\\n",
    "    --model mlx-community/Ministral-8B-Instruct-2410-4bit \\\n",
    "    --data Finegrained\\\n",
    "    --fine-tune-type lora\\\n",
    "    --batch-size 4\\\n",
    "    --num-layers 16\\\n",
    "    --iters 10\\\n",
    "    --adapter-path adapters\\\n",
    "    --train"
   ]
  },
  {
   "cell_type": "code",
   "execution_count": null,
   "metadata": {},
   "outputs": [
    {
     "name": "stdout",
     "output_type": "stream",
     "text": [
      "/Users/vishaladithya/Documents/GitHub/KaggleComp-DRW-CryptoMarketPrediction/mlx-llm/lib/python3.9/site-packages/urllib3/__init__.py:35: NotOpenSSLWarning: urllib3 v2 only supports OpenSSL 1.1.1+, currently the 'ssl' module is compiled with 'LibreSSL 2.8.3'. See: https://github.com/urllib3/urllib3/issues/3020\n",
      "  warnings.warn(\n",
      "Loading pretrained model\n",
      "Fetching 7 files: 100%|████████████████████████| 7/7 [00:00<00:00, 41883.21it/s]\n",
      "Loading datasets\n",
      "Training\n",
      "Trainable parameters: 0.021% (1.704M/8019.808M)\n",
      "Starting training..., iters: 500\n",
      "Iter 1: Val loss 3.127, Val took 115.793s\n",
      "Iter 10: Train loss 2.887, Learning Rate 1.000e-05, It/sec 0.135, Tokens/sec 123.206, Trained Tokens 9095, Peak mem 8.260 GB\n",
      "Iter 20: Train loss 1.952, Learning Rate 1.000e-05, It/sec 0.137, Tokens/sec 125.155, Trained Tokens 18201, Peak mem 8.260 GB\n",
      "Iter 30: Train loss 1.293, Learning Rate 1.000e-05, It/sec 0.138, Tokens/sec 125.231, Trained Tokens 27285, Peak mem 8.260 GB\n",
      "Iter 40: Train loss 1.106, Learning Rate 1.000e-05, It/sec 0.090, Tokens/sec 82.336, Trained Tokens 36385, Peak mem 8.260 GB\n",
      "Iter 50: Train loss 1.060, Learning Rate 1.000e-05, It/sec 0.134, Tokens/sec 122.086, Trained Tokens 45483, Peak mem 8.260 GB\n",
      "^C\n"
     ]
    }
   ],
   "source": [
    "!python3 -m mlx_lm lora \\\n",
    "    --model mlx-community/Ministral-8B-Instruct-2410-4bit \\\n",
    "    --data Finegrained\\\n",
    "    --fine-tune-type lora\\\n",
    "    --batch-size 8\\\n",
    "    --num-layers 16\\\n",
    "    --iters 50\\\n",
    "    --adapter-path adapters\\\n",
    "    --train"
   ]
  },
  {
   "cell_type": "code",
   "execution_count": null,
   "metadata": {},
   "outputs": [],
   "source": []
  }
 ],
 "metadata": {
  "kernelspec": {
   "display_name": "mlx-llm",
   "language": "python",
   "name": "python3"
  },
  "language_info": {
   "codemirror_mode": {
    "name": "ipython",
    "version": 3
   },
   "file_extension": ".py",
   "mimetype": "text/x-python",
   "name": "python",
   "nbconvert_exporter": "python",
   "pygments_lexer": "ipython3",
   "version": "3.9.6"
  }
 },
 "nbformat": 4,
 "nbformat_minor": 2
}

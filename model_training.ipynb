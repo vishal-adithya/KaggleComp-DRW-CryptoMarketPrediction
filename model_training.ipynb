{
 "cells": [
  {
   "cell_type": "code",
   "execution_count": 1,
   "metadata": {},
   "outputs": [],
   "source": [
    "import warnings\n",
    "warnings.filterwarnings(\"ignore\")"
   ]
  },
  {
   "cell_type": "code",
   "execution_count": 4,
   "metadata": {},
   "outputs": [
    {
     "name": "stdout",
     "output_type": "stream",
     "text": [
      "/Users/vishaladithya/Documents/GitHub/KaggleComp-DRW-CryptoMarketPrediction/mlx-llm/lib/python3.9/site-packages/urllib3/__init__.py:35: NotOpenSSLWarning: urllib3 v2 only supports OpenSSL 1.1.1+, currently the 'ssl' module is compiled with 'LibreSSL 2.8.3'. See: https://github.com/urllib3/urllib3/issues/3020\n",
      "  warnings.warn(\n",
      "Loading pretrained model\n",
      "Fetching 7 files: 100%|███████████████████████| 7/7 [00:00<00:00, 129912.07it/s]\n",
      "Loading datasets\n",
      "Traceback (most recent call last):\n",
      "  File \"/Library/Developer/CommandLineTools/Library/Frameworks/Python3.framework/Versions/3.9/lib/python3.9/runpy.py\", line 197, in _run_module_as_main\n",
      "    return _run_code(code, main_globals, None,\n",
      "  File \"/Library/Developer/CommandLineTools/Library/Frameworks/Python3.framework/Versions/3.9/lib/python3.9/runpy.py\", line 87, in _run_code\n",
      "    exec(code, run_globals)\n",
      "  File \"/Users/vishaladithya/Documents/GitHub/KaggleComp-DRW-CryptoMarketPrediction/mlx-llm/lib/python3.9/site-packages/mlx_lm/__main__.py\", line 28, in <module>\n",
      "    submodule.main()\n",
      "  File \"/Users/vishaladithya/Documents/GitHub/KaggleComp-DRW-CryptoMarketPrediction/mlx-llm/lib/python3.9/site-packages/mlx_lm/lora.py\", line 339, in main\n",
      "    run(types.SimpleNamespace(**args))\n",
      "  File \"/Users/vishaladithya/Documents/GitHub/KaggleComp-DRW-CryptoMarketPrediction/mlx-llm/lib/python3.9/site-packages/mlx_lm/lora.py\", line 302, in run\n",
      "    train_set, valid_set, test_set = load_dataset(args, tokenizer)\n",
      "  File \"/Users/vishaladithya/Documents/GitHub/KaggleComp-DRW-CryptoMarketPrediction/mlx-llm/lib/python3.9/site-packages/mlx_lm/tuner/datasets.py\", line 297, in load_dataset\n",
      "    train, valid, test = load_local_dataset(data_path, tokenizer, args)\n",
      "  File \"/Users/vishaladithya/Documents/GitHub/KaggleComp-DRW-CryptoMarketPrediction/mlx-llm/lib/python3.9/site-packages/mlx_lm/tuner/datasets.py\", line 200, in load_local_dataset\n",
      "    train, valid, test = [load_subset(data_path / f\"{n}.jsonl\") for n in names]\n",
      "  File \"/Users/vishaladithya/Documents/GitHub/KaggleComp-DRW-CryptoMarketPrediction/mlx-llm/lib/python3.9/site-packages/mlx_lm/tuner/datasets.py\", line 200, in <listcomp>\n",
      "    train, valid, test = [load_subset(data_path / f\"{n}.jsonl\") for n in names]\n",
      "  File \"/Users/vishaladithya/Documents/GitHub/KaggleComp-DRW-CryptoMarketPrediction/mlx-llm/lib/python3.9/site-packages/mlx_lm/tuner/datasets.py\", line 197, in load_subset\n",
      "    return create_dataset(data, tokenizer, config)\n",
      "  File \"/Users/vishaladithya/Documents/GitHub/KaggleComp-DRW-CryptoMarketPrediction/mlx-llm/lib/python3.9/site-packages/mlx_lm/tuner/datasets.py\", line 181, in create_dataset\n",
      "    raise ValueError(\n",
      "ValueError: Unsupported data format, check the supported formats here:\n",
      "https://github.com/ml-explore/mlx-examples/blob/main/llms/mlx_lm/LORA.md#data.\n"
     ]
    }
   ],
   "source": [
    "!python3 -m mlx_lm lora \\\n",
    "    --model mlx-community/Ministral-8B-Instruct-2410-4bit \\\n",
    "    --data Finegrained\\\n",
    "    --fine-tune-type lora\\\n",
    "    --batch-size 4\\\n",
    "    --num-layers 16\\\n",
    "    --iters 10\\\n",
    "    --adapter-path adapters\\\n",
    "    --train"
   ]
  },
  {
   "cell_type": "code",
   "execution_count": null,
   "metadata": {},
   "outputs": [],
   "source": []
  }
 ],
 "metadata": {
  "kernelspec": {
   "display_name": "mlx-llm",
   "language": "python",
   "name": "python3"
  },
  "language_info": {
   "codemirror_mode": {
    "name": "ipython",
    "version": 3
   },
   "file_extension": ".py",
   "mimetype": "text/x-python",
   "name": "python",
   "nbconvert_exporter": "python",
   "pygments_lexer": "ipython3",
   "version": "3.9.6"
  }
 },
 "nbformat": 4,
 "nbformat_minor": 2
}
